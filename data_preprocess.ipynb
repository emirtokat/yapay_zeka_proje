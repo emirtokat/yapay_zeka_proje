{
 "cells": [
  {
   "cell_type": "code",
   "execution_count": 29,
   "metadata": {},
   "outputs": [],
   "source": [
    "import numpy as np\n",
    "import cv2\n",
    "import json\n",
    "import os\n",
    "import tqdm"
   ]
  },
  {
   "cell_type": "code",
   "execution_count": 30,
   "metadata": {},
   "outputs": [],
   "source": [
    "DATA_PATH = r\"C:\\Users\\emir_\\Downloads\\FLIR_ADAS_v2\"\n",
    "VAL_RGB = os.path.join(DATA_PATH, \"images_rgb_val\")\n",
    "TRAIN_RGB = os.path.join(DATA_PATH, \"images_rgb_train\")\n",
    "VAL_THERMAL = os.path.join(DATA_PATH, \"images_thermal_val\")\n",
    "TRAIN_THERMAL = os.path.join(DATA_PATH, \"images_thermal_train\")"
   ]
  },
  {
   "cell_type": "code",
   "execution_count": 31,
   "metadata": {},
   "outputs": [],
   "source": [
    "OUTPUT_PATH = r\"C:\\Users\\emir_\\Desktop\\Yapay Zeka Projesi\\data\"\n",
    "VAL_RGB_OUTPUT = os.path.join(OUTPUT_PATH, \"images_rgb_val\")\n",
    "TRAIN_RGB_OUTPUT = os.path.join(OUTPUT_PATH, \"images_rgb_train\")\n",
    "VAL_THERMAL_OUTPUT = os.path.join(OUTPUT_PATH, \"images_thermal_val\")\n",
    "TRAIN_THERMAL_OUTPUT = os.path.join(OUTPUT_PATH, \"images_thermal_train\")"
   ]
  },
  {
   "cell_type": "code",
   "execution_count": 32,
   "metadata": {},
   "outputs": [],
   "source": [
    "with open(os.path.join(VAL_RGB, \"coco.json\"), 'r') as file:\n",
    "    # Load JSON data from the file\n",
    "    val_rgb_coco = json.load(file)"
   ]
  },
  {
   "cell_type": "code",
   "execution_count": 39,
   "metadata": {},
   "outputs": [],
   "source": [
    "categories = {category[\"id\"]: category[\"name\"] for category in val_rgb_coco[\"categories\"]}\n",
    "\n",
    "for category_id, category_name in categories.items():\n",
    "    if not os.path.exists(os.path.join(VAL_RGB_OUTPUT, category_name)):\n",
    "        os.mkdir(os.path.join(VAL_RGB_OUTPUT, category_name))"
   ]
  },
  {
   "cell_type": "code",
   "execution_count": 40,
   "metadata": {},
   "outputs": [
    {
     "name": "stderr",
     "output_type": "stream",
     "text": [
      "100%|██████████| 16909/16909 [04:44<00:00, 59.34it/s] \n"
     ]
    }
   ],
   "source": [
    "images = {image[\"id\"]: image for image in val_rgb_coco[\"images\"]}\n",
    "k = 10\n",
    "count = 0\n",
    "for ann in tqdm.tqdm(val_rgb_coco[\"annotations\"]):\n",
    "    image = images[ann[\"image_id\"]]\n",
    "    file_name = image[\"file_name\"]\n",
    "    category = categories[ann[\"category_id\"]]\n",
    "    img = cv2.imread(os.path.join(VAL_RGB, file_name))\n",
    "    \n",
    "    bbox = ann[\"bbox\"]\n",
    "    x, y, width, height = bbox\n",
    "    width += k * 2\n",
    "    height += k * 2\n",
    "    x -= k\n",
    "    y -= k\n",
    "\n",
    "    if x > 0 and y > 0 and width > 100 and height > 100:\n",
    "        img = img[y: y+ height , x: x+ width]\n",
    "        cv2.imwrite(os.path.join(VAL_RGB_OUTPUT, category, str(count) + \".jpg\"), img)\n",
    "        count += 1\n",
    "        "
   ]
  },
  {
   "cell_type": "code",
   "execution_count": 41,
   "metadata": {},
   "outputs": [],
   "source": [
    "with open(os.path.join(TRAIN_RGB, \"coco.json\"), 'r') as file:\n",
    "    # Load JSON data from the file\n",
    "    train_rgb_coco = json.load(file)\n",
    "\n",
    "categories = {category[\"id\"]: category[\"name\"] for category in train_rgb_coco[\"categories\"]}\n",
    "\n",
    "for category_id, category_name in categories.items():\n",
    "    if not os.path.exists(os.path.join(TRAIN_RGB_OUTPUT, category_name)):\n",
    "        os.mkdir(os.path.join(TRAIN_RGB_OUTPUT, category_name))"
   ]
  },
  {
   "cell_type": "code",
   "execution_count": 43,
   "metadata": {},
   "outputs": [
    {
     "name": "stderr",
     "output_type": "stream",
     "text": [
      "100%|██████████| 169174/169174 [53:24<00:00, 52.79it/s]   \n"
     ]
    }
   ],
   "source": [
    "images = {image[\"id\"]: image for image in train_rgb_coco[\"images\"]}\n",
    "k = 10\n",
    "count = 0\n",
    "for ann in tqdm.tqdm(train_rgb_coco[\"annotations\"]):\n",
    "    image = images[ann[\"image_id\"]]\n",
    "    file_name = image[\"file_name\"]\n",
    "    category = categories[ann[\"category_id\"]]\n",
    "    img = cv2.imread(os.path.join(TRAIN_RGB, file_name))\n",
    "    \n",
    "    bbox = ann[\"bbox\"]\n",
    "    x, y, width, height = bbox\n",
    "    width += k * 2\n",
    "    height += k * 2\n",
    "    x -= k\n",
    "    y -= k\n",
    "\n",
    "    if x > 0 and y > 0 and width > 100 and height > 100:\n",
    "        img = img[y: y+ height , x: x+ width]\n",
    "        cv2.imwrite(os.path.join(TRAIN_RGB_OUTPUT, category, str(count) + \".jpg\"), img)\n",
    "        count += 1\n",
    "        "
   ]
  },
  {
   "cell_type": "code",
   "execution_count": null,
   "metadata": {},
   "outputs": [],
   "source": [
    "with open(os.path.join(TRAIN_THERMAL, \"coco.json\"), 'r') as file:\n",
    "    # Load JSON data from the file\n",
    "    train_thermal_coco = json.load(file)\n",
    "\n",
    "categories = {category[\"id\"]: category[\"name\"] for category in train_thermal_coco[\"categories\"]}\n",
    "\n",
    "for category_id, category_name in categories.items():\n",
    "    if not os.path.exists(os.path.join(TRAIN_THERMAL_OUTPUT, category_name)):\n",
    "        os.mkdir(os.path.join(TRAIN_THERMAL_OUTPUT, category_name))"
   ]
  },
  {
   "cell_type": "code",
   "execution_count": null,
   "metadata": {},
   "outputs": [],
   "source": [
    "images = {image[\"id\"]: image for image in train_thermal_coco[\"images\"]}\n",
    "k = 10\n",
    "count = 0\n",
    "for ann in tqdm.tqdm(train_thermal_coco[\"annotations\"]):\n",
    "    image = images[ann[\"image_id\"]]\n",
    "    file_name = image[\"file_name\"]\n",
    "    category = categories[ann[\"category_id\"]]\n",
    "    img = cv2.imread(os.path.join(VAL_THERMAL, file_name))\n",
    "    \n",
    "    bbox = ann[\"bbox\"]\n",
    "    x, y, width, height = bbox\n",
    "    width += k * 2\n",
    "    height += k * 2\n",
    "    x -= k\n",
    "    y -= k\n",
    "\n",
    "    if x > 0 and y > 0 and width > 100 and height > 100:\n",
    "        img = img[y: y+ height , x: x+ width]\n",
    "        cv2.imwrite(os.path.join(TRAIN_THERMAL_OUTPUT, category, str(count) + \".jpg\"), img)\n",
    "        count += 1\n",
    "        "
   ]
  },
  {
   "cell_type": "code",
   "execution_count": null,
   "metadata": {},
   "outputs": [],
   "source": [
    "with open(os.path.join(VAL_THERMAL, \"coco.json\"), 'r') as file:\n",
    "    # Load JSON data from the file\n",
    "    val_thermal_coco = json.load(file)\n",
    "\n",
    "categories = {category[\"id\"]: category[\"name\"] for category in val_thermal_coco[\"categories\"]}\n",
    "\n",
    "for category_id, category_name in categories.items():\n",
    "    if not os.path.exists(os.path.join(VAL_THERMAL_OUTPUT, category_name)):\n",
    "        os.mkdir(os.path.join(VAL_THERMAL_OUTPUT, category_name))"
   ]
  },
  {
   "cell_type": "code",
   "execution_count": null,
   "metadata": {},
   "outputs": [],
   "source": [
    "images = {image[\"id\"]: image for image in val_thermal_coco[\"images\"]}\n",
    "k = 10\n",
    "count = 0\n",
    "for ann in tqdm.tqdm(val_thermal_coco[\"annotations\"]):\n",
    "    image = images[ann[\"image_id\"]]\n",
    "    file_name = image[\"file_name\"]\n",
    "    category = categories[ann[\"category_id\"]]\n",
    "    img = cv2.imread(os.path.join(TRAIN_THERMAL, file_name))\n",
    "    \n",
    "    bbox = ann[\"bbox\"]\n",
    "    x, y, width, height = bbox\n",
    "    width += k * 2\n",
    "    height += k * 2\n",
    "    x -= k\n",
    "    y -= k\n",
    "\n",
    "    if x > 0 and y > 0 and width > 100 and height > 100:\n",
    "        img = img[y: y+ height , x: x+ width]\n",
    "        cv2.imwrite(os.path.join(VAL_THERMAL_OUTPUT, category, str(count) + \".jpg\"), img)\n",
    "        count += 1\n",
    "        "
   ]
  }
 ],
 "metadata": {
  "kernelspec": {
   "display_name": "venv",
   "language": "python",
   "name": "python3"
  },
  "language_info": {
   "codemirror_mode": {
    "name": "ipython",
    "version": 3
   },
   "file_extension": ".py",
   "mimetype": "text/x-python",
   "name": "python",
   "nbconvert_exporter": "python",
   "pygments_lexer": "ipython3",
   "version": "3.12.0"
  }
 },
 "nbformat": 4,
 "nbformat_minor": 2
}
